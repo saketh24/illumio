{
  "nbformat": 4,
  "nbformat_minor": 0,
  "metadata": {
    "colab": {
      "name": "illumio_challenge.ipynb",
      "provenance": []
    },
    "kernelspec": {
      "name": "python3",
      "display_name": "Python 3"
    }
  },
  "cells": [
    {
      "cell_type": "code",
      "metadata": {
        "id": "8HRbOf60YDak",
        "colab_type": "code",
        "colab": {}
      },
      "source": [
        "import re\n",
        "import pandas as pd\n"
      ],
      "execution_count": 0,
      "outputs": []
    },
    {
      "cell_type": "code",
      "metadata": {
        "id": "DRE5biwJUZM5",
        "colab_type": "code",
        "colab": {
          "base_uri": "https://localhost:8080/",
          "height": 124
        },
        "outputId": "7e981a01-cdba-4fe1-b038-e3fed6d16888"
      },
      "source": [
        "from google.colab import drive\n",
        "drive.mount('/content/gdrive')"
      ],
      "execution_count": 14,
      "outputs": [
        {
          "output_type": "stream",
          "text": [
            "Go to this URL in a browser: https://accounts.google.com/o/oauth2/auth?client_id=947318989803-6bn6qk8qdgf4n4g3pfee6491hc0brc4i.apps.googleusercontent.com&redirect_uri=urn%3Aietf%3Awg%3Aoauth%3A2.0%3Aoob&scope=email%20https%3A%2F%2Fwww.googleapis.com%2Fauth%2Fdocs.test%20https%3A%2F%2Fwww.googleapis.com%2Fauth%2Fdrive%20https%3A%2F%2Fwww.googleapis.com%2Fauth%2Fdrive.photos.readonly%20https%3A%2F%2Fwww.googleapis.com%2Fauth%2Fpeopleapi.readonly&response_type=code\n",
            "\n",
            "Enter your authorization code:\n",
            "··········\n",
            "Mounted at /content/gdrive\n"
          ],
          "name": "stdout"
        }
      ]
    },
    {
      "cell_type": "code",
      "metadata": {
        "id": "mak7tsYbUeGK",
        "colab_type": "code",
        "colab": {
          "base_uri": "https://localhost:8080/",
          "height": 35
        },
        "outputId": "dd6ea90a-3e35-435d-ce77-a636771cd30f"
      },
      "source": [
        "cd '/content/gdrive/My Drive/Illumio'"
      ],
      "execution_count": 15,
      "outputs": [
        {
          "output_type": "stream",
          "text": [
            "/content/gdrive/My Drive/Illumio\n"
          ],
          "name": "stdout"
        }
      ]
    },
    {
      "cell_type": "code",
      "metadata": {
        "id": "0FumJs_hYFqU",
        "colab_type": "code",
        "colab": {}
      },
      "source": [
        "class Firewall:\n",
        "  filepath = ''\n",
        "  def __init__(self, path):\n",
        "    self.filepath = path\n",
        "  def accept_packet(self,direction,protocol,port, ip_add):\n",
        "    info = []\n",
        "    info.append(str(direction))\n",
        "    info.append(str(protocol))\n",
        "    info.append(str(port))\n",
        "    info.append(str(ip_add))\n",
        "    df = pd.read_csv(self.filepath)\n",
        "    df.direction = df.direction.astype(str)\n",
        "    df.protocol = df.protocol.astype(str)\n",
        "    df.port = df.port.astype(str)\n",
        "    df['IP address']= df['IP address'].astype(str)\n",
        "    #filtering rules based on direction and protocol\n",
        "    map_input = (df['direction'] == info[0]) & (df['protocol'] == info[1])\n",
        "    df_filtered =  df[map_input]\n",
        "    df_allfilter = df_filtered[(df_filtered['port'] == info[2]) & (df_filtered['IP address'] == info[3])]\n",
        "    #check if input matches any rule exactly (without range)\n",
        "    if df_allfilter.shape[0] > 0:\n",
        "      return True\n",
        "    #check if there exist rules with same direction and protocol as input. if not, there is not match\n",
        "    if df_filtered is None:\n",
        "      return False    \n",
        "    #iterate rows which have same direction and protocol  \n",
        "    for idx,row in df_filtered.iterrows():\n",
        "      port_flag = 0\n",
        "      ip_flag = 0\n",
        "      #if port range exists in rule, check if input lies within the range\n",
        "      if '-' in row['port']:\n",
        "        port_ranges = row['port'].split('-')\n",
        "        if (int(info[2]) >= int(port_ranges[0])) and (int(info[2]) <= int(port_ranges[1])):\n",
        "          port_flag = 1\n",
        "      #else, just check if they are equal\n",
        "      else:\n",
        "        if int(info[2]) == int(row['port']):\n",
        "          port_flag = 1\n",
        "      #if ip range exists, check if input ip address lies within the range\n",
        "      if '-' in row['IP address']:\n",
        "        ip_ranges = row['IP address'].split('-')\n",
        "        ip_nums1 = ip_ranges[0].split('.')\n",
        "        ip_nums2 = ip_ranges[1].split('.')\n",
        "        ip_nums_check = info[3].split('.')\n",
        "        for n,n1,n2 in zip(ip_nums_check,ip_nums1,ip_nums2):\n",
        "          if (int(n) == int(n1)):\n",
        "            ip_flag =1\n",
        "            continue\n",
        "          elif (int(n) >= int(n1)) and (int(n) <= int(n2)):\n",
        "            ip_flag = 1\n",
        "            continue  \n",
        "          else:\n",
        "            ip_flag = 0\n",
        "      #else, just check if IP addresses match\n",
        "      else:\n",
        "        if row['IP address'] == info[3]:\n",
        "          ip_flag = 1\n",
        "      if (port_flag ==1) and ip_flag ==1:\n",
        "        return True\n",
        "    return False"
      ],
      "execution_count": 0,
      "outputs": []
    },
    {
      "cell_type": "code",
      "metadata": {
        "id": "p93hnjLJTe8N",
        "colab_type": "code",
        "colab": {}
      },
      "source": [
        "f = Firewall('sample_rules.csv')"
      ],
      "execution_count": 0,
      "outputs": []
    },
    {
      "cell_type": "code",
      "metadata": {
        "id": "YEkXxAQbTyAd",
        "colab_type": "code",
        "colab": {
          "base_uri": "https://localhost:8080/",
          "height": 35
        },
        "outputId": "6bc1ec9b-86cb-4d69-8ca7-b028bae97511"
      },
      "source": [
        "test_1 = f.accept_packet(\"inbound\", \"tcp\", 80, \"192.168.1.2\")\n",
        "print(test_1)"
      ],
      "execution_count": 68,
      "outputs": [
        {
          "output_type": "stream",
          "text": [
            "True\n"
          ],
          "name": "stdout"
        }
      ]
    },
    {
      "cell_type": "code",
      "metadata": {
        "id": "rhMtplH_T6s0",
        "colab_type": "code",
        "colab": {
          "base_uri": "https://localhost:8080/",
          "height": 35
        },
        "outputId": "7bfb72bc-ff01-405a-923e-79878cdf4829"
      },
      "source": [
        "test_2 = f.accept_packet(\"inbound\", \"udp\", 53, \"192.168.2.1\")\n",
        "print(test_2)"
      ],
      "execution_count": 69,
      "outputs": [
        {
          "output_type": "stream",
          "text": [
            "True\n"
          ],
          "name": "stdout"
        }
      ]
    },
    {
      "cell_type": "code",
      "metadata": {
        "id": "n3Zy5LbsXPuv",
        "colab_type": "code",
        "colab": {
          "base_uri": "https://localhost:8080/",
          "height": 35
        },
        "outputId": "ff264759-859c-4607-83e8-fb4bf3469c91"
      },
      "source": [
        "test_3 = f.accept_packet(\"outbound\", \"tcp\", 10234, \"192.168.10.11\")\n",
        "print(test_3)"
      ],
      "execution_count": 70,
      "outputs": [
        {
          "output_type": "stream",
          "text": [
            "True\n"
          ],
          "name": "stdout"
        }
      ]
    },
    {
      "cell_type": "code",
      "metadata": {
        "id": "5cXOLfNNetxC",
        "colab_type": "code",
        "colab": {
          "base_uri": "https://localhost:8080/",
          "height": 35
        },
        "outputId": "5e14967b-49e5-41eb-a109-73aac6bd3a39"
      },
      "source": [
        "test_4 = f.accept_packet(\"inbound\", \"tcp\", 81, \"192.168.1.2\")\n",
        "print(test_4)"
      ],
      "execution_count": 72,
      "outputs": [
        {
          "output_type": "stream",
          "text": [
            "False\n"
          ],
          "name": "stdout"
        }
      ]
    },
    {
      "cell_type": "code",
      "metadata": {
        "id": "-ULc0ut8eyMx",
        "colab_type": "code",
        "colab": {
          "base_uri": "https://localhost:8080/",
          "height": 35
        },
        "outputId": "badda1e6-8949-41fb-8fa3-2a48df7a9624"
      },
      "source": [
        "test_5 = f.accept_packet(\"inbound\", \"udp\", 24, \"52.12.48.92\")\n",
        "print(test_5)"
      ],
      "execution_count": 73,
      "outputs": [
        {
          "output_type": "stream",
          "text": [
            "False\n"
          ],
          "name": "stdout"
        }
      ]
    }
  ]
}